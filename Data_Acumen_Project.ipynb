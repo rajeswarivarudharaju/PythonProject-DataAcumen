{
 "cells": [
  {
   "cell_type": "code",
   "execution_count": 10,
   "id": "f3396df7",
   "metadata": {},
   "outputs": [],
   "source": [
    "import boto3\n",
    "import pandas as pd\n",
    "import numpy as np\n",
    "import sqlalchemy\n",
    "import pyodbc\n",
    "from datetime import datetime\n",
    "from pandas.tseries.offsets import MonthEnd\n",
    "from datetime import timedelta\n",
    "import matplotlib.pyplot as plt\n",
    "from functools import reduce\n",
    "\n",
    "df = pd.read_json('credentials.json')\n",
    "AWS_ACCESS_KEY_ID = df['data_sources']['s3']['creds']['aws_access_key_id']\n",
    "AWS_SECRET_ACCESS_KEY_ID = df['data_sources']['s3']['creds']['aws_secret_access_key']\n",
    "BUCKET = df['data_sources']['s3']['bucket']\n",
    "KEY_LOSER=df['data_sources']['s3']['folder_path_Loser']\n",
    "KEY_LOST=df['data_sources']['s3']['folder_path_Lost']\n",
    "RED_SHIFT_USER_NAME= df['data_sources']['redshift']['creds']['username']\n",
    "RED_SHIFT_PASSWORD= df['data_sources']['redshift']['creds']['password']\n",
    "RED_SHIFT_HOST= df['data_sources']['redshift']['creds']['host']\n",
    "RED_SHIFT_PORT= df['data_sources']['redshift']['creds']['port']\n",
    "RED_SHIFT_DATABASE= df['data_sources']['redshift']['creds']['database']"
   ]
  },
  {
   "cell_type": "markdown",
   "id": "0c419dea",
   "metadata": {},
   "source": [
    "# s3_Connection\n"
   ]
  },
  {
   "cell_type": "code",
   "execution_count": 2,
   "id": "542ef421",
   "metadata": {},
   "outputs": [],
   "source": [
    "\n",
    "class s3_connection:\n",
    "\n",
    "    def __init__(self, awsAccessKeyId,awsSecretAccessKey, bucketName,key):\n",
    "        self.awsAccessKeyId = awsAccessKeyId\n",
    "        self.awsSecretAccessKey = awsSecretAccessKey\n",
    "        self.bucketName = bucketName\n",
    "        self.key = key\n",
    "\n",
    "    def create_s3_connection(self):\n",
    "            s3_client = boto3.client(\"s3\",\n",
    "                        aws_access_key_id=self.awsAccessKeyId,\n",
    "                        aws_secret_access_key=self.awsSecretAccessKey)\n",
    "           \n",
    "            response = s3_client.get_object(Bucket=f'{self.bucketName}', Key=f'{self.key}')\n",
    "            dataframe = pd.read_csv(response.get(\"Body\"),header=3)\n",
    "       \n",
    "            return dataframe\n"
   ]
  },
  {
   "cell_type": "markdown",
   "id": "9b1ab70a",
   "metadata": {},
   "source": [
    "# red_Shift_Connection "
   ]
  },
  {
   "cell_type": "code",
   "execution_count": 3,
   "id": "299b8773",
   "metadata": {},
   "outputs": [],
   "source": [
    "class redshift_connection:\n",
    "\n",
    "    def __init__(self, username,password,host,port,database,query):\n",
    "        self.username = username\n",
    "        self.password = password\n",
    "        self.host = host \n",
    "        self.port = port \n",
    "        self.database = database \n",
    "        self.query = query\n",
    "        \n",
    "\n",
    "    def create_redshift_connection(self):\n",
    "            db=sqlalchemy.create_engine('redshift+psycopg2://'f'{self.username}:'f'{self.password}@'f'{self.host}:'f'{self.port}/'f'{self.database}')\n",
    "            dataframe =pd.read_sql(f'{self.query}', con=db)\n",
    "            return dataframe\n",
    "        \n",
    "    def migrate_data_to_redshift(self):\n",
    "            con=sqlalchemy.create_engine('postgresql://'f'{self.username}:'f'{self.password}@'f'{self.host}:'f'{self.port}/'f'{self.database}')\n",
    "            return con\n",
    "            \n"
   ]
  },
  {
   "cell_type": "markdown",
   "id": "e712f84e",
   "metadata": {},
   "source": [
    "# BigQueryConnection"
   ]
  },
  {
   "cell_type": "code",
   "execution_count": 4,
   "id": "805be0e0",
   "metadata": {},
   "outputs": [],
   "source": [
    "class bigquery_connection:\n",
    "\n",
    "\n",
    "    def __init__(self, credentialsPath,query):\n",
    "        self.credentialsPath = credentialsPath\n",
    "        self.query = query\n",
    "        \n",
    "\n",
    "    def create_bigquery_connection(self):\n",
    "            db=sqlalchemy.create_engine('bigquery://', credentials_path=f'{self.credentialsPath}')\n",
    "            dataframe =pd.read_sql(f'{self.query}', con=db)\n",
    "       \n",
    "            return dataframe\n"
   ]
  },
  {
   "cell_type": "markdown",
   "id": "dad74af4",
   "metadata": {},
   "source": [
    "# tournamentLost Table and tournamentLoser Table"
   ]
  },
  {
   "cell_type": "code",
   "execution_count": 5,
   "id": "c8251622",
   "metadata": {},
   "outputs": [],
   "source": [
    "tournamentLost=s3_connection(awsAccessKeyId=AWS_ACCESS_KEY_ID,awsSecretAccessKey=AWS_SECRET_ACCESS_KEY_ID, bucketName=BUCKET,key=KEY_LOST)\n",
    "tournamentLoser=s3_connection(awsAccessKeyId=AWS_ACCESS_KEY_ID,awsSecretAccessKey=AWS_SECRET_ACCESS_KEY_ID, bucketName=BUCKET,key=KEY_LOSER)\n",
    "tournamentLoserData=tournamentLoser.create_s3_connection()\n",
    "tournamentLostData=tournamentLost.create_s3_connection()\n"
   ]
  },
  {
   "cell_type": "markdown",
   "id": "f2a5410a",
   "metadata": {},
   "source": [
    "# tournament Table and tournamentWon Table"
   ]
  },
  {
   "cell_type": "code",
   "execution_count": 6,
   "id": "0b63b4b0",
   "metadata": {},
   "outputs": [],
   "source": [
    "tournament=redshift_connection(username=RED_SHIFT_USER_NAME,password=RED_SHIFT_PASSWORD,host=RED_SHIFT_HOST,port=RED_SHIFT_PORT,database=RED_SHIFT_DATABASE,query= \"\"\"SELECT * FROM tournament order by row_order\"\"\")\n",
    "tournamentWon=redshift_connection(username=RED_SHIFT_USER_NAME,password=RED_SHIFT_PASSWORD,host=RED_SHIFT_HOST,port=RED_SHIFT_PORT,database=RED_SHIFT_DATABASE, query= \"\"\"SELECT * FROM tournament_won order by row_order\"\"\")\n",
    "tournamentData=tournament.create_redshift_connection()\n",
    "tournamentWonData=tournamentWon.create_redshift_connection()\n",
    "migrateData=tournament.migrate_data_to_redshift()"
   ]
  },
  {
   "cell_type": "markdown",
   "id": "e9863b03",
   "metadata": {},
   "source": [
    "# tournamentWinner Table"
   ]
  },
  {
   "cell_type": "code",
   "execution_count": 7,
   "id": "4bf79eb7",
   "metadata": {},
   "outputs": [],
   "source": [
    "tournamentWinner = bigquery_connection(credentialsPath='gcp.json',query = \"\"\"SELECT * FROM training_dataset.tournament_winner order by row_order\"\"\")\n",
    "tournamentWinnerData=tournamentWinner.create_bigquery_connection()\n",
    " "
   ]
  },
  {
   "cell_type": "markdown",
   "id": "64a79b25",
   "metadata": {},
   "source": [
    "# DA-2 ATP series "
   ]
  },
  {
   "cell_type": "markdown",
   "id": "7a20837e",
   "metadata": {},
   "source": [
    "# players list and count for the same who played in ATP series."
   ]
  },
  {
   "cell_type": "code",
   "execution_count": 13,
   "id": "85bb9af7",
   "metadata": {},
   "outputs": [
    {
     "name": "stdout",
     "output_type": "stream",
     "text": [
      "       row_order  series       winner               Loser\n",
      "0              1  ATP250    Kwon S.W.         Nishioka Y.\n",
      "1              2  ATP250  Monteiro T.         Altmaier D.\n",
      "2              3  ATP250     Djere L.  Carballes Baena R.\n",
      "3              4  ATP250   Johnson S.            Vukic A.\n",
      "4              5  ATP250    Moutet C.             Rune H.\n",
      "...          ...     ...          ...                 ...\n",
      "35565      35566  ATP500   Pouille L.          Gasquet R.\n",
      "35566      35567  ATP500  Tsonga J.W.           Zverev A.\n",
      "35567      35568  ATP500   Pouille L.           Edmund K.\n",
      "35568      35569  ATP500  Tsonga J.W.    Kohlschreiber P.\n",
      "35569      35570  ATP500   Pouille L.         Tsonga J.W.\n",
      "\n",
      "[19512 rows x 4 columns]\n"
     ]
    }
   ],
   "source": [
    "#3 dataframes\n",
    "\n",
    "\n",
    "tournamentAtpData = tournamentData[[\"row_order\",\"series\"]]\n",
    "tournamentAtpWonData = tournamentWonData[[\"row_order\",\"winner\"]]\n",
    "tournamentAtpLostData=tournamentLostData[[\"row_order\",\"Loser\"]]\n",
    "\n",
    "\n",
    "# 3 dataframs concadination \n",
    "\n",
    "#atpDataConcat=pd.concat([tournamentAtpData,tournamentAtpWonData,tournamentAtpLostData], axis=1)\n",
    "dfs = [tournamentAtpData, tournamentAtpWonData, tournamentAtpLostData]\n",
    "df_final = reduce(lambda left,right: pd.merge(left,right,on='row_order'), dfs)\n",
    "#atpDataMerge=pd.merge(tournamentAtpData,tournamentAtpWonData,tournamentAtpLostData, on='row_order', how = 'inner')\n",
    "\n",
    "#conditions for ATP series\n",
    "\n",
    "atpPlayersName = df_final.loc[df_final['series'].str.contains(\"ATP\", case=False)]\n",
    "\n",
    "#players count for ATP series\n",
    "\n",
    "#playersCount=(atpPlayersName[\"winner\"].count())+(atpPlayersName[\"Loser\"].count())\n",
    "\n",
    "\n",
    "#print(playersCount)\n",
    "print(atpPlayersName)\n",
    "\n",
    "#atpPlayersName.to_sql(\"rajeswari_da_7_new_result\", migrateData, index=False, if_exists='replace',chunksize=1000)"
   ]
  },
  {
   "cell_type": "markdown",
   "id": "aec354d7",
   "metadata": {},
   "source": [
    "# Left-Handed players in International Gold series"
   ]
  },
  {
   "cell_type": "markdown",
   "id": "0cdd7f62",
   "metadata": {},
   "source": [
    "# list of Left-Handed players who won the match with weight above 80 and starting year as 2005, who were in International Gold series."
   ]
  },
  {
   "cell_type": "code",
   "execution_count": 9,
   "id": "18ae986f",
   "metadata": {},
   "outputs": [
    {
     "name": "stdout",
     "output_type": "stream",
     "text": [
      "       row_order              series  row_order     winner  row_order  \\\n",
      "6598        6599  International Gold       6599  Zverev M.       6599   \n",
      "6612        6613  International Gold       6613  Zverev M.       6613   \n",
      "28725      28726  International Gold      28726  Zverev M.      28726   \n",
      "28750      28751  International Gold      28751  Zverev M.      28751   \n",
      "28760      28761  International Gold      28761  Zverev M.      28761   \n",
      "\n",
      "          pl1_hand  pl1_weight  pl1_year_pro  \n",
      "6598   Left-Handed          88          2005  \n",
      "6612   Left-Handed          88          2005  \n",
      "28725  Left-Handed          88          2005  \n",
      "28750  Left-Handed          88          2005  \n",
      "28760  Left-Handed          88          2005  \n"
     ]
    }
   ],
   "source": [
    "#3 dataframes\n",
    "\n",
    "tournamentGoldWonData = tournamentWonData[[\"row_order\",\"winner\"]]\n",
    "tournamentGoldData = tournamentData[[\"row_order\",\"series\"]]\n",
    "tournamentGoldWinnerData=tournamentWinnerData[[\"row_order\",\"pl1_hand\",\"pl1_weight\",\"pl1_year_pro\"]]\n",
    "\n",
    "# 3 dataframs concadination \n",
    "\n",
    "df_concat = pd.concat([tournamentGoldData,tournamentGoldWonData,tournamentGoldWinnerData], axis=1)\n",
    "\n",
    "#conditions for International Gold series\n",
    "\n",
    "Conditions=(df_concat[\"pl1_hand\"]== 'Left-Handed') & (df_concat[\"pl1_weight\"]>=80)&(df_concat[\"pl1_year_pro\"]== 2005)&(df_concat[\"series\"]==\"International Gold\")\n",
    "GoldSeriesPlayers=df_concat.loc[Conditions]\n",
    "\n",
    "print(GoldSeriesPlayers)\n",
    "#GoldSeriesPlayers.to_sql(\"rajeswari_da_8_result\", migrateData, index=False, if_exists='replace')"
   ]
  },
  {
   "cell_type": "markdown",
   "id": "76555918",
   "metadata": {},
   "source": [
    "# Players in Clay surface"
   ]
  },
  {
   "cell_type": "markdown",
   "id": "82ad646b",
   "metadata": {},
   "source": [
    "# list of winners played in Clay surface before 20 months with winning points above 2K, and max odds of match winner is more than 2."
   ]
  },
  {
   "cell_type": "code",
   "execution_count": 10,
   "id": "e19b68bd",
   "metadata": {},
   "outputs": [
    {
     "name": "stdout",
     "output_type": "stream",
     "text": [
      "       row_order tournament_date surface  row_order            winner    wpts  \\\n",
      "4717        4718      07-02-2015    Clay       4718          Lopez F.  2220.0   \n",
      "12333      12334      03-10-2020    Clay      12334  Carreno Busta P.  2130.0   \n",
      "12337      12338      03-10-2020    Clay      12338      Khachanov K.  2200.0   \n",
      "12347      12348      06-10-2020    Clay      12348    Schwartzman D.  2505.0   \n",
      "12776      12777      04-16-2019    Clay      12777     Cecchinato M.  2021.0   \n",
      "...          ...             ...     ...        ...               ...     ...   \n",
      "19363      19364      07-06-2015    Clay      19364       Wawrinka S.  3845.0   \n",
      "23048      23049      07-16-2010    Clay      23049        Monfils G.  2055.0   \n",
      "23557      23558      07-15-2012    Clay      23558     Tipsarevic J.  3215.0   \n",
      "23764      23765      07-21-2018    Clay      23765        Fognini F.  2030.0   \n",
      "25083      25084      07-21-2012    Clay      25084         Monaco J.  2240.0   \n",
      "\n",
      "       maxw  \n",
      "4717   2.67  \n",
      "12333  2.20  \n",
      "12337  2.71  \n",
      "12347  3.41  \n",
      "12776  2.56  \n",
      "...     ...  \n",
      "19363  7.00  \n",
      "23048  2.21  \n",
      "23557  2.60  \n",
      "23764  2.10  \n",
      "25083  2.88  \n",
      "\n",
      "[120 rows x 7 columns]\n"
     ]
    }
   ],
   "source": [
    "#2 dataframes\n",
    "\n",
    "tournamentClayData=tournamentData[[\"row_order\",\"tournament_date\",\"surface\"]]\n",
    "tournamentClayWonData=tournamentWonData[[\"row_order\",\"winner\",\"wpts\",\"maxw\"]]\n",
    "\n",
    "# 2 dataframs concadination \n",
    "\n",
    "Clay_concat=pd.concat([tournamentClayData,tournamentClayWonData], axis=1)\n",
    "\n",
    "#list of winners played in Clay surface before 20 months\n",
    "\n",
    "currentDate=datetime.today()\n",
    "pastDate=currentDate - pd.DateOffset(months=20)\n",
    "past_date_str = pd.to_datetime(pastDate)\n",
    "\n",
    "#conditions for Clay surface tournament\n",
    "\n",
    "condition=(Clay_concat[\"surface\"]==\"Clay\") & (Clay_concat[\"wpts\"]>2000) & (Clay_concat[\"maxw\"]>2) & (pd.to_datetime(Clay_concat[\"tournament_date\"]) < past_date_str)\n",
    "ClayPlayers=Clay_concat.loc[condition]\n",
    "\n",
    "print(ClayPlayers)\n",
    "#ClayPlayers.to_sql(\"rajeswari_da_9_result\", migrateData, index=False, if_exists='replace')"
   ]
  },
  {
   "cell_type": "markdown",
   "id": "350e38d0",
   "metadata": {},
   "source": [
    "# Players on Pilot Pen Tennis Tournament "
   ]
  },
  {
   "cell_type": "markdown",
   "id": "91013816",
   "metadata": {},
   "source": [
    "# list of Right-Handed players with match date, who played on Pilot Pen Tennis tournament.   Also new column with the end date of the next month for the match date. "
   ]
  },
  {
   "cell_type": "code",
   "execution_count": 11,
   "id": "013cd390",
   "metadata": {},
   "outputs": [
    {
     "name": "stdout",
     "output_type": "stream",
     "text": [
      "       row_order tournament_date        tournament  row_order      winner  \\\n",
      "27121      27122      08-23-2010  Pilot Pen Tennis      27122  Korolev E.   \n",
      "27122      27123      08-23-2010  Pilot Pen Tennis      27123   Brands D.   \n",
      "27123      27124      08-23-2010  Pilot Pen Tennis      27124    Young D.   \n",
      "27124      27125      08-23-2010  Pilot Pen Tennis      27125   Becker B.   \n",
      "27125      27126      08-23-2010  Pilot Pen Tennis      27126    Hajek J.   \n",
      "...          ...             ...               ...        ...         ...   \n",
      "28767      28768      08-21-2008  Pilot Pen Tennis      28768     Fish M.   \n",
      "28768      28769      08-22-2008  Pilot Pen Tennis      28769    Cilic M.   \n",
      "28769      28770      08-22-2008  Pilot Pen Tennis      28770     Fish M.   \n",
      "28770      28771      08-23-2008  Pilot Pen Tennis      28771    Cilic M.   \n",
      "28771      28772      08-23-2008  Pilot Pen Tennis      28772    Cilic M.   \n",
      "\n",
      "       row_order      pl1_hand           Loser      pl2_hand   end_date  \n",
      "27121      27122  Right-Handed          Gil F.  Right-Handed 2010-09-30  \n",
      "27122      27123  Right-Handed        Kubot L.  Right-Handed 2010-09-30  \n",
      "27123      27124   Left-Handed       Robert S.  Right-Handed 2010-09-30  \n",
      "27124      27125  Right-Handed  Chiudinelli M.  Right-Handed 2010-09-30  \n",
      "27125      27126  Right-Handed        Brown D.  Right-Handed 2010-09-30  \n",
      "...          ...           ...             ...           ...        ...  \n",
      "28767      28768  Right-Handed       Levine J.   Left-Handed 2008-09-30  \n",
      "28768      28769  Right-Handed      Andreev I.  Right-Handed 2008-09-30  \n",
      "28769      28770  Right-Handed     Verdasco F.   Left-Handed 2008-09-30  \n",
      "28770      28771  Right-Handed      Gregorc L.           NaN 2008-09-30  \n",
      "28771      28772  Right-Handed         Fish M.  Right-Handed 2008-09-30  \n",
      "\n",
      "[139 rows x 10 columns]\n"
     ]
    },
    {
     "name": "stderr",
     "output_type": "stream",
     "text": [
      "C:\\Users\\RAJESW~1\\AppData\\Local\\Temp/ipykernel_88628/4078194750.py:22: SettingWithCopyWarning: \n",
      "A value is trying to be set on a copy of a slice from a DataFrame.\n",
      "Try using .loc[row_indexer,col_indexer] = value instead\n",
      "\n",
      "See the caveats in the documentation: https://pandas.pydata.org/pandas-docs/stable/user_guide/indexing.html#returning-a-view-versus-a-copy\n",
      "  resultsPilot[\"end_date\"]=pd.to_datetime(resultsPilot[\"tournament_date\"])+ MonthEnd(2)\n"
     ]
    }
   ],
   "source": [
    "#5 dataframs\n",
    "\n",
    "tournamentPilotData = tournamentData[[\"row_order\",\"tournament_date\",\"tournament\"]]\n",
    "tournamentWonPilotData = tournamentWonData[[\"row_order\",\"winner\"]]\n",
    "tournamentWinnerPilotData= tournamentWinnerData[[\"row_order\",\"pl1_hand\"]]\n",
    "tournamentLostPilotData=tournamentLostData[[\"Loser\"]]\n",
    "tournamentLoserPilotData=tournamentLoserData[[\"pl2_hand\"]]\n",
    "\n",
    "# 5 dataframs concadination \n",
    "\n",
    "PilotConcat=pd.concat([tournamentPilotData,tournamentWonPilotData,tournamentWinnerPilotData,tournamentLostPilotData,tournamentLoserPilotData], axis=1)\n",
    "\n",
    "#conditions for Pilot Pen Tennis tournament\n",
    "\n",
    "conditionPilot=((PilotConcat[\"pl1_hand\"]=='Right-Handed') | (PilotConcat[\"pl2_hand\"]=='Right-Handed')) & (PilotConcat[\"tournament\"]=='Pilot Pen Tennis')\n",
    "resultsPilot=PilotConcat.loc[conditionPilot]\n",
    "\n",
    "\n",
    "# new column with the end date of the next month for the match date\n",
    "\n",
    "\n",
    "resultsPilot[\"end_date\"]=pd.to_datetime(resultsPilot[\"tournament_date\"])+ MonthEnd(2)\n",
    "\n",
    "\n",
    "#pd.set_option('display.max_rows', None)\n",
    "print(resultsPilot)\n",
    "\n",
    "#resultsPilot.to_sql(\"rajeswari_da_10_result\", migrateData, index=False, if_exists='replace')"
   ]
  },
  {
   "cell_type": "markdown",
   "id": "86317b6f",
   "metadata": {},
   "source": [
    "# Winning Country in International Gold Series and Clay Surface"
   ]
  },
  {
   "cell_type": "code",
   "execution_count": 14,
   "id": "f7e3f701",
   "metadata": {},
   "outputs": [
    {
     "data": {
      "image/png": "[encoded data removed]",
      "text/plain": [
       "<Figure size 1800x720 with 1 Axes>"
      ]
     },
     "metadata": {
      "needs_background": "light"
     },
     "output_type": "display_data"
    }
   ],
   "source": [
    "#5 dataframs\n",
    "\n",
    "tournamentGoldClayData = tournamentData[[\"series\",\"surface\",\"location\"]]\n",
    "tournamentGoldClayWonData = tournamentWonData[[\"winner\",\"wpts\"]]\n",
    "tournamentGoldClayWinnerData= tournamentWinnerData[[\"pl1_flag\",\"pl1_hand\",\"pl1_year_pro\"]]\n",
    "tournamentGoldClayLostData=tournamentLostData[\"Loser\"]\n",
    "tournamentGoldClayLoserData=tournamentLoserData[\"pl2_hand\"]\n",
    "\n",
    "# 5 dataframs concadination \n",
    "\n",
    "tableConcat=pd.concat([tournamentGoldClayData,tournamentGoldClayWonData,tournamentGoldClayWinnerData,tournamentGoldClayLostData,tournamentGoldClayLoserData], axis=1)\n",
    "\n",
    "#conditions for International Gold and Clay Surface\n",
    "\n",
    "GoldClayCondition=(tableConcat[\"series\"]=='International Gold') & (tableConcat[\"surface\"]=='Clay')\n",
    "resultsGoldClay=tableConcat.loc[GoldClayCondition]\n",
    "\n",
    "#To find the maximum winner in each country\n",
    "\n",
    "NumberOfWinnerEachCounty= resultsGoldClay.groupby('pl1_flag')['winner'].count()\n",
    "\n",
    "#Reset_index \n",
    "NumberOfWinnerEachCounty=NumberOfWinnerEachCounty.reset_index()\n",
    "\n",
    "#Bar chart for each country in international gold series\n",
    "plt.figure(figsize=(25,10))\n",
    "plt.title('Winning Country in International Gold and Clay Surface',fontdict={'fontname': 'Times New Roman' ,'fontsize':20})\n",
    "\n",
    "plt.bar(NumberOfWinnerEachCounty.pl1_flag,NumberOfWinnerEachCounty.winner)\n",
    "plt.savefig('bar.png')\n",
    "plt.show()\n",
    "\n",
    "\n",
    "\n",
    "\n",
    "#topPlayers\n",
    "\n",
    "\n",
    "topWinnerPlayersInEachCountry=tableConcat.sort_values([\"pl1_flag\",\"wpts\"], ascending=False).groupby('pl1_flag').head(1)\n",
    "\n",
    "\n",
    "NumberOfWinnerEachCounty\n",
    "\n",
    "topWinnerPlayersInEachCountry.to_sql(\"rajeswari_da_11_2_result\", migrateData, index=False, if_exists='replace')"
   ]
  },
  {
   "cell_type": "code",
   "execution_count": null,
   "id": "af18f0f5",
   "metadata": {},
   "outputs": [],
   "source": []
  }
 ],
 "metadata": {
  "kernelspec": {
   "display_name": "Python 3 (ipykernel)",
   "language": "python",
   "name": "python3"
  },
  "language_info": {
   "codemirror_mode": {
    "name": "ipython",
    "version": 3
   },
   "file_extension": ".py",
   "mimetype": "text/x-python",
   "name": "python",
   "nbconvert_exporter": "python",
   "pygments_lexer": "ipython3",
   "version": "3.9.7"
  }
 },
 "nbformat": 4,
 "nbformat_minor": 5
}
